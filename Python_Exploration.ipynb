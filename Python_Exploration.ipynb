{
 "cells": [
  {
   "cell_type": "markdown",
   "id": "389ae34c",
   "metadata": {},
   "source": [
    "# Pandas Exploration of Restaurant Data"
   ]
  },
  {
   "cell_type": "markdown",
   "id": "35b21896",
   "metadata": {},
   "source": [
    "## Will be performing Data Exploration and Data Cleaning through Pandas\n",
    "\n",
    "## Objective:"
   ]
  },
  {
   "cell_type": "markdown",
   "id": "e2782ff6",
   "metadata": {},
   "source": [
    "The objective of this analysis is to provide data insights to future restaurant owners who are planning to open a food delivery store but has no ideas on below business decisions such as: which cuisine types should they do, which zones to choose for their kitchen site to get the most sales, which is the most effective time period of a day to do marketing,etc. To help these restaurant owners, we use SQL to answer these questions:\n",
    "\n",
    "Which restaurant received the most orders?\n",
    "\n",
    "Which restaurant saw most sales?\n",
    "\n",
    "Which customer ordered the most?\n",
    "\n",
    "Display restaurant name and the category where name starts with s ?\n",
    "\n",
    "Which is the most liked cuisine?\n",
    "\n",
    "Which zone has the most sales?\n",
    "\n",
    "The payment mode used maximum number of times\n",
    "\n",
    "Restaurant receiving the delivery rating greater than 4\n",
    "\n",
    "Maximum delivery time taken by restaurant\n",
    "\n",
    "customer name, restaurant name and the category where category is ordinary and name starts with d"
   ]
  },
  {
   "cell_type": "code",
   "execution_count": 1,
   "id": "fd5c494b",
   "metadata": {},
   "outputs": [],
   "source": [
    "import numpy as np\n",
    "import pandas as pd\n",
    "import matplotlib.pyplot as plt\n",
    "import seaborn as sns\n",
    "pd.set_option('display.max_rows', None)"
   ]
  },
  {
   "cell_type": "code",
   "execution_count": 2,
   "id": "704c076f",
   "metadata": {
    "scrolled": true
   },
   "outputs": [
    {
     "data": {
      "text/html": [
       "<div>\n",
       "<style scoped>\n",
       "    .dataframe tbody tr th:only-of-type {\n",
       "        vertical-align: middle;\n",
       "    }\n",
       "\n",
       "    .dataframe tbody tr th {\n",
       "        vertical-align: top;\n",
       "    }\n",
       "\n",
       "    .dataframe thead th {\n",
       "        text-align: right;\n",
       "    }\n",
       "</style>\n",
       "<table border=\"1\" class=\"dataframe\">\n",
       "  <thead>\n",
       "    <tr style=\"text-align: right;\">\n",
       "      <th></th>\n",
       "      <th>Order ID</th>\n",
       "      <th>Customer Name</th>\n",
       "      <th>Restaurant ID</th>\n",
       "      <th>Order Date</th>\n",
       "      <th>Quantity of Items</th>\n",
       "      <th>Order Amount</th>\n",
       "      <th>Payment Mode</th>\n",
       "      <th>Delivery Time Taken (mins)</th>\n",
       "      <th>Customer Rating-Food</th>\n",
       "      <th>Customer Rating-Delivery</th>\n",
       "    </tr>\n",
       "  </thead>\n",
       "  <tbody>\n",
       "    <tr>\n",
       "      <th>0</th>\n",
       "      <td>OD1</td>\n",
       "      <td>Srini</td>\n",
       "      <td>6</td>\n",
       "      <td>1/1/22 23:15</td>\n",
       "      <td>5</td>\n",
       "      <td>633</td>\n",
       "      <td>Debit Card</td>\n",
       "      <td>47</td>\n",
       "      <td>5</td>\n",
       "      <td>3</td>\n",
       "    </tr>\n",
       "    <tr>\n",
       "      <th>1</th>\n",
       "      <td>OD2</td>\n",
       "      <td>Revandh</td>\n",
       "      <td>13</td>\n",
       "      <td>1/1/22 19:21</td>\n",
       "      <td>5</td>\n",
       "      <td>258</td>\n",
       "      <td>Credit Card</td>\n",
       "      <td>41</td>\n",
       "      <td>3</td>\n",
       "      <td>5</td>\n",
       "    </tr>\n",
       "    <tr>\n",
       "      <th>2</th>\n",
       "      <td>OD3</td>\n",
       "      <td>David</td>\n",
       "      <td>9</td>\n",
       "      <td>1/1/22 23:15</td>\n",
       "      <td>7</td>\n",
       "      <td>594</td>\n",
       "      <td>Cash on Delivery</td>\n",
       "      <td>30</td>\n",
       "      <td>3</td>\n",
       "      <td>4</td>\n",
       "    </tr>\n",
       "    <tr>\n",
       "      <th>3</th>\n",
       "      <td>OD4</td>\n",
       "      <td>Selva</td>\n",
       "      <td>4</td>\n",
       "      <td>1/1/22 20:31</td>\n",
       "      <td>5</td>\n",
       "      <td>868</td>\n",
       "      <td>Cash on Delivery</td>\n",
       "      <td>30</td>\n",
       "      <td>3</td>\n",
       "      <td>4</td>\n",
       "    </tr>\n",
       "    <tr>\n",
       "      <th>4</th>\n",
       "      <td>OD5</td>\n",
       "      <td>Vinny</td>\n",
       "      <td>4</td>\n",
       "      <td>1/1/22 11:10</td>\n",
       "      <td>4</td>\n",
       "      <td>170</td>\n",
       "      <td>Debit Card</td>\n",
       "      <td>18</td>\n",
       "      <td>4</td>\n",
       "      <td>3</td>\n",
       "    </tr>\n",
       "  </tbody>\n",
       "</table>\n",
       "</div>"
      ],
      "text/plain": [
       "  Order ID Customer Name  Restaurant ID    Order Date  Quantity of Items  \\\n",
       "0      OD1         Srini              6  1/1/22 23:15                  5   \n",
       "1      OD2       Revandh             13  1/1/22 19:21                  5   \n",
       "2      OD3         David              9  1/1/22 23:15                  7   \n",
       "3      OD4         Selva              4  1/1/22 20:31                  5   \n",
       "4      OD5         Vinny              4  1/1/22 11:10                  4   \n",
       "\n",
       "   Order Amount      Payment Mode  Delivery Time Taken (mins)  \\\n",
       "0           633        Debit Card                          47   \n",
       "1           258       Credit Card                          41   \n",
       "2           594  Cash on Delivery                          30   \n",
       "3           868  Cash on Delivery                          30   \n",
       "4           170        Debit Card                          18   \n",
       "\n",
       "   Customer Rating-Food  Customer Rating-Delivery  \n",
       "0                     5                         3  \n",
       "1                     3                         5  \n",
       "2                     3                         4  \n",
       "3                     3                         4  \n",
       "4                     4                         3  "
      ]
     },
     "execution_count": 2,
     "metadata": {},
     "output_type": "execute_result"
    }
   ],
   "source": [
    "df1 = pd.read_csv('data/Orders.csv', low_memory=False)\n",
    "df1.head()"
   ]
  },
  {
   "cell_type": "code",
   "execution_count": 3,
   "id": "a18c6da1",
   "metadata": {},
   "outputs": [
    {
     "name": "stdout",
     "output_type": "stream",
     "text": [
      "<class 'pandas.core.frame.DataFrame'>\n",
      "RangeIndex: 500 entries, 0 to 499\n",
      "Data columns (total 10 columns):\n",
      " #   Column                      Non-Null Count  Dtype \n",
      "---  ------                      --------------  ----- \n",
      " 0   Order ID                    500 non-null    object\n",
      " 1   Customer Name               500 non-null    object\n",
      " 2   Restaurant ID               500 non-null    int64 \n",
      " 3   Order Date                  500 non-null    object\n",
      " 4   Quantity of Items           500 non-null    int64 \n",
      " 5   Order Amount                500 non-null    int64 \n",
      " 6   Payment Mode                500 non-null    object\n",
      " 7   Delivery Time Taken (mins)  500 non-null    int64 \n",
      " 8   Customer Rating-Food        500 non-null    int64 \n",
      " 9   Customer Rating-Delivery    500 non-null    int64 \n",
      "dtypes: int64(6), object(4)\n",
      "memory usage: 39.2+ KB\n"
     ]
    }
   ],
   "source": [
    "df1.info()"
   ]
  },
  {
   "cell_type": "code",
   "execution_count": 4,
   "id": "2061a8a8",
   "metadata": {
    "scrolled": true
   },
   "outputs": [
    {
     "data": {
      "text/html": [
       "<div>\n",
       "<style scoped>\n",
       "    .dataframe tbody tr th:only-of-type {\n",
       "        vertical-align: middle;\n",
       "    }\n",
       "\n",
       "    .dataframe tbody tr th {\n",
       "        vertical-align: top;\n",
       "    }\n",
       "\n",
       "    .dataframe thead th {\n",
       "        text-align: right;\n",
       "    }\n",
       "</style>\n",
       "<table border=\"1\" class=\"dataframe\">\n",
       "  <thead>\n",
       "    <tr style=\"text-align: right;\">\n",
       "      <th></th>\n",
       "      <th>RestaurantID</th>\n",
       "      <th>RestaurantName</th>\n",
       "      <th>Cuisine</th>\n",
       "      <th>Zone</th>\n",
       "      <th>Category</th>\n",
       "    </tr>\n",
       "  </thead>\n",
       "  <tbody>\n",
       "    <tr>\n",
       "      <th>0</th>\n",
       "      <td>1</td>\n",
       "      <td>The Cave Hotel</td>\n",
       "      <td>Continental</td>\n",
       "      <td>Zone B</td>\n",
       "      <td>Pro</td>\n",
       "    </tr>\n",
       "    <tr>\n",
       "      <th>1</th>\n",
       "      <td>2</td>\n",
       "      <td>SSK Hotel</td>\n",
       "      <td>North Indian</td>\n",
       "      <td>Zone D</td>\n",
       "      <td>Pro</td>\n",
       "    </tr>\n",
       "    <tr>\n",
       "      <th>2</th>\n",
       "      <td>3</td>\n",
       "      <td>ASR Restaurant</td>\n",
       "      <td>South Indian</td>\n",
       "      <td>Zone D</td>\n",
       "      <td>Ordinary</td>\n",
       "    </tr>\n",
       "    <tr>\n",
       "      <th>3</th>\n",
       "      <td>4</td>\n",
       "      <td>Win Hotel</td>\n",
       "      <td>South Indian</td>\n",
       "      <td>Zone D</td>\n",
       "      <td>Ordinary</td>\n",
       "    </tr>\n",
       "    <tr>\n",
       "      <th>4</th>\n",
       "      <td>5</td>\n",
       "      <td>Denver Restaurant</td>\n",
       "      <td>Continental</td>\n",
       "      <td>Zone D</td>\n",
       "      <td>Pro</td>\n",
       "    </tr>\n",
       "  </tbody>\n",
       "</table>\n",
       "</div>"
      ],
      "text/plain": [
       "   RestaurantID     RestaurantName       Cuisine    Zone  Category\n",
       "0             1     The Cave Hotel   Continental  Zone B       Pro\n",
       "1             2          SSK Hotel  North Indian  Zone D       Pro\n",
       "2             3     ASR Restaurant  South Indian  Zone D  Ordinary\n",
       "3             4          Win Hotel  South Indian  Zone D  Ordinary\n",
       "4             5  Denver Restaurant   Continental  Zone D       Pro"
      ]
     },
     "execution_count": 4,
     "metadata": {},
     "output_type": "execute_result"
    }
   ],
   "source": [
    "df2 = pd.read_csv('data/Restaurants.csv', low_memory=False)\n",
    "df2.head()"
   ]
  },
  {
   "cell_type": "code",
   "execution_count": 5,
   "id": "ca6c0a82",
   "metadata": {},
   "outputs": [
    {
     "name": "stdout",
     "output_type": "stream",
     "text": [
      "<class 'pandas.core.frame.DataFrame'>\n",
      "RangeIndex: 20 entries, 0 to 19\n",
      "Data columns (total 5 columns):\n",
      " #   Column          Non-Null Count  Dtype \n",
      "---  ------          --------------  ----- \n",
      " 0   RestaurantID    20 non-null     int64 \n",
      " 1   RestaurantName  20 non-null     object\n",
      " 2   Cuisine         20 non-null     object\n",
      " 3   Zone            20 non-null     object\n",
      " 4   Category        20 non-null     object\n",
      "dtypes: int64(1), object(4)\n",
      "memory usage: 928.0+ bytes\n"
     ]
    }
   ],
   "source": [
    "df2.info()"
   ]
  },
  {
   "cell_type": "markdown",
   "id": "64f43bae",
   "metadata": {},
   "source": [
    "Not a large dataset by any means, but will be good for use with beginner projects"
   ]
  },
  {
   "cell_type": "code",
   "execution_count": 6,
   "id": "34301571",
   "metadata": {},
   "outputs": [
    {
     "data": {
      "text/plain": [
       "Order ID                      0\n",
       "Customer Name                 0\n",
       "Restaurant ID                 0\n",
       "Order Date                    0\n",
       "Quantity of Items             0\n",
       "Order Amount                  0\n",
       "Payment Mode                  0\n",
       "Delivery Time Taken (mins)    0\n",
       "Customer Rating-Food          0\n",
       "Customer Rating-Delivery      0\n",
       "dtype: int64"
      ]
     },
     "execution_count": 6,
     "metadata": {},
     "output_type": "execute_result"
    }
   ],
   "source": [
    "df1.isna().sum()"
   ]
  },
  {
   "cell_type": "code",
   "execution_count": 7,
   "id": "6a9b826f",
   "metadata": {
    "scrolled": true
   },
   "outputs": [
    {
     "data": {
      "text/plain": [
       "RestaurantID      0\n",
       "RestaurantName    0\n",
       "Cuisine           0\n",
       "Zone              0\n",
       "Category          0\n",
       "dtype: int64"
      ]
     },
     "execution_count": 7,
     "metadata": {},
     "output_type": "execute_result"
    }
   ],
   "source": [
    "df2.isna().sum()"
   ]
  },
  {
   "cell_type": "code",
   "execution_count": 8,
   "id": "2c784163",
   "metadata": {},
   "outputs": [],
   "source": [
    "df1 = df1.rename(columns={'Restaurant ID': 'RestaurantID'})"
   ]
  },
  {
   "cell_type": "markdown",
   "id": "a93ea51a",
   "metadata": {},
   "source": [
    "No null values, gives us the advantage with answering these questions much faster. "
   ]
  },
  {
   "cell_type": "markdown",
   "id": "1dcf1641",
   "metadata": {},
   "source": [
    "Now that we have seen the data, looked into any of the data cleaning, we can now start answering the questions."
   ]
  },
  {
   "cell_type": "markdown",
   "id": "d319ba0b",
   "metadata": {},
   "source": [
    "#### Which restaurant received the most orders?\n"
   ]
  },
  {
   "cell_type": "code",
   "execution_count": 9,
   "id": "95f9042f",
   "metadata": {},
   "outputs": [],
   "source": [
    "order_count_by_restaurant = df1.merge(df2, on='RestaurantID')['RestaurantName'].value_counts()\n",
    "most_ordered_restaurant = order_count_by_restaurant.max()\n"
   ]
  },
  {
   "cell_type": "code",
   "execution_count": 10,
   "id": "2bd46e17",
   "metadata": {},
   "outputs": [
    {
     "name": "stdout",
     "output_type": "stream",
     "text": [
      "Restaurant that received the most orders is: 32\n"
     ]
    }
   ],
   "source": [
    "print(f\"Restaurant that received the most orders is: {most_ordered_restaurant}\")\n"
   ]
  },
  {
   "cell_type": "markdown",
   "id": "7db5bcd8",
   "metadata": {},
   "source": [
    "#### Which restaurant saw most sales?"
   ]
  },
  {
   "cell_type": "code",
   "execution_count": 11,
   "id": "711f8079",
   "metadata": {},
   "outputs": [],
   "source": [
    "sales_by_restaurant = df1.merge(df2, on='RestaurantID').groupby('RestaurantName')['Order Amount'].sum()\n",
    "highest_sales_restaurant = sales_by_restaurant.max()\n"
   ]
  },
  {
   "cell_type": "code",
   "execution_count": 12,
   "id": "f73be206",
   "metadata": {},
   "outputs": [
    {
     "name": "stdout",
     "output_type": "stream",
     "text": [
      "Restaurant with the highest sales is: 19168\n"
     ]
    }
   ],
   "source": [
    "print(f\"Restaurant with the highest sales is: {highest_sales_restaurant}\")\n"
   ]
  },
  {
   "cell_type": "markdown",
   "id": "2de5a732",
   "metadata": {},
   "source": [
    "#### Which customer ordered the most?"
   ]
  },
  {
   "cell_type": "code",
   "execution_count": 13,
   "id": "a6d1547b",
   "metadata": {},
   "outputs": [],
   "source": [
    "most_ordering_customer = df1['Customer Name'].value_counts().max()\n"
   ]
  },
  {
   "cell_type": "code",
   "execution_count": 14,
   "id": "eb3e4473",
   "metadata": {},
   "outputs": [
    {
     "name": "stdout",
     "output_type": "stream",
     "text": [
      "Customer who ordered the most is: 34\n"
     ]
    }
   ],
   "source": [
    "print(f\"Customer who ordered the most is: {most_ordering_customer}\")\n"
   ]
  },
  {
   "cell_type": "markdown",
   "id": "927474b1",
   "metadata": {},
   "source": [
    "#### Display restaurant name and the category where name starts with s ?"
   ]
  },
  {
   "cell_type": "code",
   "execution_count": 15,
   "id": "38235c25",
   "metadata": {},
   "outputs": [],
   "source": [
    "restaurants_starting_with_s = df2[df2['RestaurantName'].str.startswith('S')]\n",
    "restaurant_category_starting_with_s = restaurants_starting_with_s[['RestaurantName', 'Category']]\n"
   ]
  },
  {
   "cell_type": "code",
   "execution_count": 16,
   "id": "8a4aa3ea",
   "metadata": {},
   "outputs": [
    {
     "name": "stdout",
     "output_type": "stream",
     "text": [
      "   RestaurantName  Category\n",
      "1       SSK Hotel       Pro\n",
      "18      Sam Hotel  Ordinary\n"
     ]
    }
   ],
   "source": [
    "print(restaurant_category_starting_with_s)\n"
   ]
  },
  {
   "cell_type": "markdown",
   "id": "c4b95f70",
   "metadata": {},
   "source": [
    "#### Which is the most liked cuisine?"
   ]
  },
  {
   "cell_type": "code",
   "execution_count": 17,
   "id": "04247fd6",
   "metadata": {},
   "outputs": [],
   "source": [
    "merged_data = df1.merge(df2, on='RestaurantID')\n",
    "avg_food_rating_by_cuisine = merged_data.groupby('Cuisine')['Customer Rating-Food'].mean()\n",
    "most_liked_cuisine = avg_food_rating_by_cuisine.idxmax()\n"
   ]
  },
  {
   "cell_type": "code",
   "execution_count": 18,
   "id": "d8a735b7",
   "metadata": {},
   "outputs": [
    {
     "name": "stdout",
     "output_type": "stream",
     "text": [
      "Most liked cuisine is: North Indian\n"
     ]
    }
   ],
   "source": [
    "print(f\"Most liked cuisine is: {most_liked_cuisine}\")\n"
   ]
  },
  {
   "cell_type": "markdown",
   "id": "1a2139a2",
   "metadata": {},
   "source": [
    "#### Which zone has the most sales?"
   ]
  },
  {
   "cell_type": "code",
   "execution_count": 19,
   "id": "a780ffa3",
   "metadata": {},
   "outputs": [],
   "source": [
    "sales_by_zone = df1.merge(df2, on='RestaurantID').groupby('Zone')['Order Amount'].sum()\n",
    "highest_sales_zone = sales_by_zone.idxmax()\n",
    "\n"
   ]
  },
  {
   "cell_type": "code",
   "execution_count": 20,
   "id": "b71c64f2",
   "metadata": {},
   "outputs": [
    {
     "name": "stdout",
     "output_type": "stream",
     "text": [
      "The zone with the most sales is: Zone D\n"
     ]
    }
   ],
   "source": [
    "print(f\"The zone with the most sales is: {highest_sales_zone}\")\n"
   ]
  },
  {
   "cell_type": "markdown",
   "id": "aac395bd",
   "metadata": {},
   "source": [
    "#### The payment mode used maximum number of times"
   ]
  },
  {
   "cell_type": "code",
   "execution_count": 21,
   "id": "ff8f3bed",
   "metadata": {},
   "outputs": [],
   "source": [
    "most_common_payment_mode = df1['Payment Mode'].value_counts().idxmax()\n"
   ]
  },
  {
   "cell_type": "code",
   "execution_count": 22,
   "id": "59e5d5c2",
   "metadata": {},
   "outputs": [
    {
     "name": "stdout",
     "output_type": "stream",
     "text": [
      "The most common payment mode is: Debit Card\n"
     ]
    }
   ],
   "source": [
    "print(f\"The most common payment mode is: {most_common_payment_mode}\")\n"
   ]
  },
  {
   "cell_type": "markdown",
   "id": "cc798bf5",
   "metadata": {},
   "source": [
    "#### Restaurant receiving the delivery rating greater than 4"
   ]
  },
  {
   "cell_type": "code",
   "execution_count": 23,
   "id": "fda3e28c",
   "metadata": {},
   "outputs": [],
   "source": [
    "high_rated_delivery_restaurants = df1[df1['Customer Rating-Delivery'] > 4].merge(df2, on='RestaurantID')\n"
   ]
  },
  {
   "cell_type": "code",
   "execution_count": 24,
   "id": "1c9d3ce2",
   "metadata": {},
   "outputs": [
    {
     "name": "stdout",
     "output_type": "stream",
     "text": [
      "       RestaurantName  Category\n",
      "0     Veer Restaurant  Ordinary\n",
      "1     Veer Restaurant  Ordinary\n",
      "2     Veer Restaurant  Ordinary\n",
      "3     Veer Restaurant  Ordinary\n",
      "4     Veer Restaurant  Ordinary\n",
      "5          Dave Hotel  Ordinary\n",
      "6          Dave Hotel  Ordinary\n",
      "7          Dave Hotel  Ordinary\n",
      "8          Dave Hotel  Ordinary\n",
      "9          Dave Hotel  Ordinary\n",
      "10         Dave Hotel  Ordinary\n",
      "11         Dave Hotel  Ordinary\n",
      "12         Dave Hotel  Ordinary\n",
      "13          Sam Hotel  Ordinary\n",
      "14          Sam Hotel  Ordinary\n",
      "15          Sam Hotel  Ordinary\n",
      "16                AMN  Ordinary\n",
      "17                AMN  Ordinary\n",
      "18                AMN  Ordinary\n",
      "19                AMN  Ordinary\n",
      "20                AMN  Ordinary\n",
      "21          KSR Hotel       Pro\n",
      "22          KSR Hotel       Pro\n",
      "23          KSR Hotel       Pro\n",
      "24          KSR Hotel       Pro\n",
      "25            Zam Zam  Ordinary\n",
      "26            Zam Zam  Ordinary\n",
      "27            Zam Zam  Ordinary\n",
      "28            Zam Zam  Ordinary\n",
      "29            Zam Zam  Ordinary\n",
      "30            Zam Zam  Ordinary\n",
      "31            Zam Zam  Ordinary\n",
      "32     ASR Restaurant  Ordinary\n",
      "33     ASR Restaurant  Ordinary\n",
      "34     ASR Restaurant  Ordinary\n",
      "35     ASR Restaurant  Ordinary\n",
      "36     ASR Restaurant  Ordinary\n",
      "37   Excel Restaurant  Ordinary\n",
      "38            Willies       Pro\n",
      "39            Willies       Pro\n",
      "40            Willies       Pro\n",
      "41            Willies       Pro\n",
      "42   Anand Restaurant  Ordinary\n",
      "43   Anand Restaurant  Ordinary\n",
      "44   Anand Restaurant  Ordinary\n",
      "45   Anand Restaurant  Ordinary\n",
      "46   Anand Restaurant  Ordinary\n",
      "47   Anand Restaurant  Ordinary\n",
      "48               Oslo  Ordinary\n",
      "49               Oslo  Ordinary\n",
      "50               Oslo  Ordinary\n",
      "51               Oslo  Ordinary\n",
      "52    Chew Restaurant  Ordinary\n",
      "53    Chew Restaurant  Ordinary\n",
      "54    Chew Restaurant  Ordinary\n",
      "55             Ellora       Pro\n",
      "56             Ellora       Pro\n",
      "57             Ellora       Pro\n",
      "58             Ellora       Pro\n",
      "59             Ellora       Pro\n",
      "60             Ellora       Pro\n",
      "61     The Cave Hotel       Pro\n",
      "62     The Cave Hotel       Pro\n",
      "63     The Cave Hotel       Pro\n",
      "64     The Cave Hotel       Pro\n",
      "65     The Cave Hotel       Pro\n",
      "66     The Cave Hotel       Pro\n",
      "67     The Cave Hotel       Pro\n",
      "68              Ruchi  Ordinary\n",
      "69              Ruchi  Ordinary\n",
      "70              Ruchi  Ordinary\n",
      "71              Ruchi  Ordinary\n",
      "72  Denver Restaurant       Pro\n",
      "73          Win Hotel  Ordinary\n",
      "74          Win Hotel  Ordinary\n",
      "75          Win Hotel  Ordinary\n",
      "76          Win Hotel  Ordinary\n",
      "77          Win Hotel  Ordinary\n",
      "78          Win Hotel  Ordinary\n",
      "79          The Taste       Pro\n",
      "80          The Taste       Pro\n",
      "81          The Taste       Pro\n",
      "82          The Taste       Pro\n",
      "83          SSK Hotel       Pro\n",
      "84          SSK Hotel       Pro\n",
      "85      Vrinda Bhavan  Ordinary\n",
      "86      Vrinda Bhavan  Ordinary\n",
      "87      Vrinda Bhavan  Ordinary\n"
     ]
    }
   ],
   "source": [
    "print(high_rated_delivery_restaurants[['RestaurantName', 'Category']])\n"
   ]
  },
  {
   "cell_type": "markdown",
   "id": "558d0c12",
   "metadata": {},
   "source": [
    "#### Maximum delivery time taken by restaurant"
   ]
  },
  {
   "cell_type": "code",
   "execution_count": 25,
   "id": "aa8c906a",
   "metadata": {},
   "outputs": [],
   "source": [
    "max_delivery_time_by_restaurant = df1.groupby('RestaurantID')['Delivery Time Taken (mins)'].max()\n",
    "most_delivery_time_restaurant = max_delivery_time_by_restaurant.idxmax()\n",
    "\n",
    "# Find the restaurant name corresponding to the most delivery time\n",
    "most_delivery_time_restaurant_name = df2[df2['RestaurantID'] == most_delivery_time_restaurant]['RestaurantName'].iloc[0]\n"
   ]
  },
  {
   "cell_type": "code",
   "execution_count": 26,
   "id": "ea09e832",
   "metadata": {},
   "outputs": [
    {
     "name": "stdout",
     "output_type": "stream",
     "text": [
      "The restaurant with the maximum delivery time is: ASR Restaurant\n"
     ]
    }
   ],
   "source": [
    "print(f\"The restaurant with the maximum delivery time is: {most_delivery_time_restaurant_name}\")\n"
   ]
  },
  {
   "cell_type": "markdown",
   "id": "248b11f7",
   "metadata": {},
   "source": [
    "#### Customer name, restaurant name and the category where category is ordinary and name starts with d#"
   ]
  },
  {
   "cell_type": "code",
   "execution_count": 27,
   "id": "88eb7802",
   "metadata": {},
   "outputs": [],
   "source": [
    "merged_data = df1.merge(df2, on='RestaurantID')\n",
    "desired_customers = merged_data.loc[(merged_data['Category'] == 'Ordinary') & (merged_data['RestaurantName'].str.startswith('D'))]\n"
   ]
  },
  {
   "cell_type": "code",
   "execution_count": 28,
   "id": "3456d879",
   "metadata": {},
   "outputs": [
    {
     "name": "stdout",
     "output_type": "stream",
     "text": [
      "    Customer Name RestaurantName  Category\n",
      "220           Dev     Dave Hotel  Ordinary\n",
      "221         Swamy     Dave Hotel  Ordinary\n",
      "222       Revandh     Dave Hotel  Ordinary\n",
      "223        Farhan     Dave Hotel  Ordinary\n",
      "224         Vinny     Dave Hotel  Ordinary\n",
      "225         Vinny     Dave Hotel  Ordinary\n",
      "226         Srini     Dave Hotel  Ordinary\n",
      "227       Revandh     Dave Hotel  Ordinary\n",
      "228        Chinny     Dave Hotel  Ordinary\n",
      "229      Veronica     Dave Hotel  Ordinary\n",
      "230         Swamy     Dave Hotel  Ordinary\n",
      "231       Sabeena     Dave Hotel  Ordinary\n",
      "232         Meera     Dave Hotel  Ordinary\n",
      "233         Gopal     Dave Hotel  Ordinary\n",
      "234         Srini     Dave Hotel  Ordinary\n",
      "235       Sabeena     Dave Hotel  Ordinary\n",
      "236           Dev     Dave Hotel  Ordinary\n",
      "237           Dev     Dave Hotel  Ordinary\n",
      "238       Sabeena     Dave Hotel  Ordinary\n",
      "239        Chinny     Dave Hotel  Ordinary\n"
     ]
    }
   ],
   "source": [
    "print(desired_customers[['Customer Name', 'RestaurantName', 'Category']])\n"
   ]
  },
  {
   "cell_type": "code",
   "execution_count": null,
   "id": "12340320",
   "metadata": {},
   "outputs": [],
   "source": []
  }
 ],
 "metadata": {
  "kernelspec": {
   "display_name": "Python (learn-env)",
   "language": "python",
   "name": "learn-env"
  },
  "language_info": {
   "codemirror_mode": {
    "name": "ipython",
    "version": 3
   },
   "file_extension": ".py",
   "mimetype": "text/x-python",
   "name": "python",
   "nbconvert_exporter": "python",
   "pygments_lexer": "ipython3",
   "version": "3.8.5"
  }
 },
 "nbformat": 4,
 "nbformat_minor": 5
}
