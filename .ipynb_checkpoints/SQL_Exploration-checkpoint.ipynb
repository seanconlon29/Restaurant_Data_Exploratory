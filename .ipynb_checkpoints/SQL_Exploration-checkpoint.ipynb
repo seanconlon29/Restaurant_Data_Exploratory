{
 "cells": [
  {
   "cell_type": "markdown",
   "id": "dd6ceccb",
   "metadata": {},
   "source": [
    "# Pandas Exploration of Restaurant Data"
   ]
  },
  {
   "cell_type": "markdown",
   "id": "df47a77b",
   "metadata": {},
   "source": [
    "### Will be performing Data Exploration and Data Cleaning through Pandas tools and SQL\n"
   ]
  },
  {
   "cell_type": "markdown",
   "id": "d4d78237",
   "metadata": {},
   "source": [
    "## Objective: "
   ]
  },
  {
   "cell_type": "markdown",
   "id": "ac6f0faf",
   "metadata": {},
   "source": [
    "The objective of this analysis is to provide data insights to future restaurant owners who are planning to open a food delivery store but has no ideas on below business decisions such as: which cuisine types should they do, which zones to choose for their kitchen site to get the most sales, which is the most effective time period of a day to do marketing,etc. To help these restaurant owners, we use SQL to answer these questions:\n",
    "\n",
    "Which restaurant received the most orders?\n",
    "\n",
    "Which restaurant saw most sales?\n",
    "\n",
    "Which customer ordered the most?\n",
    "\n",
    "Display restaurant name and the category where name starts with s ?\n",
    "\n",
    "Which is the most liked cuisine?\n",
    "\n",
    "Which zone has the most sales?\n",
    "\n",
    "The payment mode used maximum number of times\n",
    "\n",
    "Restaurant receiving the delivery rating greater than 4\n",
    "\n",
    "Maximum delivery time taken by restaurant\n",
    "\n",
    "customer name, restaurant name and the category where category is ordinary and name starts with d"
   ]
  },
  {
   "cell_type": "markdown",
   "id": "b220ba80",
   "metadata": {},
   "source": [
    "Not a large dataset by any means, but will be good for use with beginner sql projects"
   ]
  },
  {
   "cell_type": "code",
   "execution_count": null,
   "id": "050b727f",
   "metadata": {},
   "outputs": [],
   "source": []
  },
  {
   "cell_type": "code",
   "execution_count": null,
   "id": "ab165d66",
   "metadata": {},
   "outputs": [],
   "source": []
  },
  {
   "cell_type": "code",
   "execution_count": null,
   "id": "77b4ed84",
   "metadata": {},
   "outputs": [],
   "source": []
  },
  {
   "cell_type": "code",
   "execution_count": null,
   "id": "d05f16cb",
   "metadata": {},
   "outputs": [],
   "source": []
  },
  {
   "cell_type": "code",
   "execution_count": null,
   "id": "ec47b668",
   "metadata": {},
   "outputs": [],
   "source": []
  },
  {
   "cell_type": "code",
   "execution_count": null,
   "id": "42ee9251",
   "metadata": {},
   "outputs": [],
   "source": []
  },
  {
   "cell_type": "code",
   "execution_count": null,
   "id": "a59242ec",
   "metadata": {},
   "outputs": [],
   "source": []
  },
  {
   "cell_type": "code",
   "execution_count": null,
   "id": "ba2411e1",
   "metadata": {},
   "outputs": [],
   "source": []
  }
 ],
 "metadata": {
  "kernelspec": {
   "display_name": "Python (learn-env)",
   "language": "python",
   "name": "learn-env"
  },
  "language_info": {
   "codemirror_mode": {
    "name": "ipython",
    "version": 3
   },
   "file_extension": ".py",
   "mimetype": "text/x-python",
   "name": "python",
   "nbconvert_exporter": "python",
   "pygments_lexer": "ipython3",
   "version": "3.8.5"
  }
 },
 "nbformat": 4,
 "nbformat_minor": 5
}
