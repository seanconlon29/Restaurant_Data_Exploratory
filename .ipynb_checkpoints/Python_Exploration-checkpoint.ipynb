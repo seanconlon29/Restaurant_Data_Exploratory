{
 "cells": [
  {
   "cell_type": "markdown",
   "id": "13c905c5",
   "metadata": {},
   "source": [
    "# Pandas Exploration of Restaurant Data"
   ]
  },
  {
   "cell_type": "markdown",
   "id": "357f70fb",
   "metadata": {},
   "source": [
    "### Will be performing Data Exploration and Data Cleaning through Pandas tools and SQL\n"
   ]
  },
  {
   "cell_type": "markdown",
   "id": "e53f13de",
   "metadata": {},
   "source": [
    "## Objective: "
   ]
  },
  {
   "cell_type": "markdown",
   "id": "21818472",
   "metadata": {},
   "source": [
    "The objective of this analysis is to provide data insights to future restaurant owners who are planning to open a food delivery store but has no ideas on below business decisions such as: which cuisine types should they do, which zones to choose for their kitchen site to get the most sales, which is the most effective time period of a day to do marketing,etc. To help these restaurant owners, we use SQL to answer these questions:\n",
    "\n",
    "Which restaurant received the most orders?\n",
    "\n",
    "Which restaurant saw most sales?\n",
    "\n",
    "Which customer ordered the most?\n",
    "\n",
    "Display restaurant name and the category where name starts with s ?\n",
    "\n",
    "Which is the most liked cuisine?\n",
    "\n",
    "Which zone has the most sales?\n",
    "\n",
    "The payment mode used maximum number of times\n",
    "\n",
    "Restaurant receiving the delivery rating greater than 4\n",
    "\n",
    "Maximum delivery time taken by restaurant\n",
    "\n",
    "customer name, restaurant name and the category where category is ordinary and name starts with d"
   ]
  },
  {
   "cell_type": "code",
   "execution_count": 4,
   "id": "f2effadf",
   "metadata": {},
   "outputs": [],
   "source": [
    "import numpy as np\n",
    "import pandas as pd\n",
    "import matplotlib.pyplot as plt\n",
    "import seaborn as sns\n",
    "pd.set_option('display.max_rows', None)"
   ]
  },
  {
   "cell_type": "code",
   "execution_count": 5,
   "id": "b7d3b6fa",
   "metadata": {
    "scrolled": true
   },
   "outputs": [
    {
     "data": {
      "text/html": [
       "<div>\n",
       "<style scoped>\n",
       "    .dataframe tbody tr th:only-of-type {\n",
       "        vertical-align: middle;\n",
       "    }\n",
       "\n",
       "    .dataframe tbody tr th {\n",
       "        vertical-align: top;\n",
       "    }\n",
       "\n",
       "    .dataframe thead th {\n",
       "        text-align: right;\n",
       "    }\n",
       "</style>\n",
       "<table border=\"1\" class=\"dataframe\">\n",
       "  <thead>\n",
       "    <tr style=\"text-align: right;\">\n",
       "      <th></th>\n",
       "      <th>Order ID</th>\n",
       "      <th>Customer Name</th>\n",
       "      <th>Restaurant ID</th>\n",
       "      <th>Order Date</th>\n",
       "      <th>Quantity of Items</th>\n",
       "      <th>Order Amount</th>\n",
       "      <th>Payment Mode</th>\n",
       "      <th>Delivery Time Taken (mins)</th>\n",
       "      <th>Customer Rating-Food</th>\n",
       "      <th>Customer Rating-Delivery</th>\n",
       "    </tr>\n",
       "  </thead>\n",
       "  <tbody>\n",
       "    <tr>\n",
       "      <th>0</th>\n",
       "      <td>OD1</td>\n",
       "      <td>Srini</td>\n",
       "      <td>6</td>\n",
       "      <td>1/1/22 23:15</td>\n",
       "      <td>5</td>\n",
       "      <td>633</td>\n",
       "      <td>Debit Card</td>\n",
       "      <td>47</td>\n",
       "      <td>5</td>\n",
       "      <td>3</td>\n",
       "    </tr>\n",
       "    <tr>\n",
       "      <th>1</th>\n",
       "      <td>OD2</td>\n",
       "      <td>Revandh</td>\n",
       "      <td>13</td>\n",
       "      <td>1/1/22 19:21</td>\n",
       "      <td>5</td>\n",
       "      <td>258</td>\n",
       "      <td>Credit Card</td>\n",
       "      <td>41</td>\n",
       "      <td>3</td>\n",
       "      <td>5</td>\n",
       "    </tr>\n",
       "    <tr>\n",
       "      <th>2</th>\n",
       "      <td>OD3</td>\n",
       "      <td>David</td>\n",
       "      <td>9</td>\n",
       "      <td>1/1/22 23:15</td>\n",
       "      <td>7</td>\n",
       "      <td>594</td>\n",
       "      <td>Cash on Delivery</td>\n",
       "      <td>30</td>\n",
       "      <td>3</td>\n",
       "      <td>4</td>\n",
       "    </tr>\n",
       "    <tr>\n",
       "      <th>3</th>\n",
       "      <td>OD4</td>\n",
       "      <td>Selva</td>\n",
       "      <td>4</td>\n",
       "      <td>1/1/22 20:31</td>\n",
       "      <td>5</td>\n",
       "      <td>868</td>\n",
       "      <td>Cash on Delivery</td>\n",
       "      <td>30</td>\n",
       "      <td>3</td>\n",
       "      <td>4</td>\n",
       "    </tr>\n",
       "    <tr>\n",
       "      <th>4</th>\n",
       "      <td>OD5</td>\n",
       "      <td>Vinny</td>\n",
       "      <td>4</td>\n",
       "      <td>1/1/22 11:10</td>\n",
       "      <td>4</td>\n",
       "      <td>170</td>\n",
       "      <td>Debit Card</td>\n",
       "      <td>18</td>\n",
       "      <td>4</td>\n",
       "      <td>3</td>\n",
       "    </tr>\n",
       "  </tbody>\n",
       "</table>\n",
       "</div>"
      ],
      "text/plain": [
       "  Order ID Customer Name  Restaurant ID    Order Date  Quantity of Items  \\\n",
       "0      OD1         Srini              6  1/1/22 23:15                  5   \n",
       "1      OD2       Revandh             13  1/1/22 19:21                  5   \n",
       "2      OD3         David              9  1/1/22 23:15                  7   \n",
       "3      OD4         Selva              4  1/1/22 20:31                  5   \n",
       "4      OD5         Vinny              4  1/1/22 11:10                  4   \n",
       "\n",
       "   Order Amount      Payment Mode  Delivery Time Taken (mins)  \\\n",
       "0           633        Debit Card                          47   \n",
       "1           258       Credit Card                          41   \n",
       "2           594  Cash on Delivery                          30   \n",
       "3           868  Cash on Delivery                          30   \n",
       "4           170        Debit Card                          18   \n",
       "\n",
       "   Customer Rating-Food  Customer Rating-Delivery  \n",
       "0                     5                         3  \n",
       "1                     3                         5  \n",
       "2                     3                         4  \n",
       "3                     3                         4  \n",
       "4                     4                         3  "
      ]
     },
     "execution_count": 5,
     "metadata": {},
     "output_type": "execute_result"
    }
   ],
   "source": [
    "df1 = pd.read_csv('data/Orders.csv', low_memory=False)\n",
    "df1.head()"
   ]
  },
  {
   "cell_type": "code",
   "execution_count": 6,
   "id": "3a40dc0c",
   "metadata": {},
   "outputs": [
    {
     "name": "stdout",
     "output_type": "stream",
     "text": [
      "<class 'pandas.core.frame.DataFrame'>\n",
      "RangeIndex: 500 entries, 0 to 499\n",
      "Data columns (total 10 columns):\n",
      " #   Column                      Non-Null Count  Dtype \n",
      "---  ------                      --------------  ----- \n",
      " 0   Order ID                    500 non-null    object\n",
      " 1   Customer Name               500 non-null    object\n",
      " 2   Restaurant ID               500 non-null    int64 \n",
      " 3   Order Date                  500 non-null    object\n",
      " 4   Quantity of Items           500 non-null    int64 \n",
      " 5   Order Amount                500 non-null    int64 \n",
      " 6   Payment Mode                500 non-null    object\n",
      " 7   Delivery Time Taken (mins)  500 non-null    int64 \n",
      " 8   Customer Rating-Food        500 non-null    int64 \n",
      " 9   Customer Rating-Delivery    500 non-null    int64 \n",
      "dtypes: int64(6), object(4)\n",
      "memory usage: 39.2+ KB\n"
     ]
    }
   ],
   "source": [
    "df1.info()"
   ]
  },
  {
   "cell_type": "code",
   "execution_count": 7,
   "id": "c6d9df00",
   "metadata": {},
   "outputs": [
    {
     "data": {
      "text/html": [
       "<div>\n",
       "<style scoped>\n",
       "    .dataframe tbody tr th:only-of-type {\n",
       "        vertical-align: middle;\n",
       "    }\n",
       "\n",
       "    .dataframe tbody tr th {\n",
       "        vertical-align: top;\n",
       "    }\n",
       "\n",
       "    .dataframe thead th {\n",
       "        text-align: right;\n",
       "    }\n",
       "</style>\n",
       "<table border=\"1\" class=\"dataframe\">\n",
       "  <thead>\n",
       "    <tr style=\"text-align: right;\">\n",
       "      <th></th>\n",
       "      <th>RestaurantID</th>\n",
       "      <th>RestaurantName</th>\n",
       "      <th>Cuisine</th>\n",
       "      <th>Zone</th>\n",
       "      <th>Category</th>\n",
       "    </tr>\n",
       "  </thead>\n",
       "  <tbody>\n",
       "    <tr>\n",
       "      <th>0</th>\n",
       "      <td>1</td>\n",
       "      <td>The Cave Hotel</td>\n",
       "      <td>Continental</td>\n",
       "      <td>Zone B</td>\n",
       "      <td>Pro</td>\n",
       "    </tr>\n",
       "    <tr>\n",
       "      <th>1</th>\n",
       "      <td>2</td>\n",
       "      <td>SSK Hotel</td>\n",
       "      <td>North Indian</td>\n",
       "      <td>Zone D</td>\n",
       "      <td>Pro</td>\n",
       "    </tr>\n",
       "    <tr>\n",
       "      <th>2</th>\n",
       "      <td>3</td>\n",
       "      <td>ASR Restaurant</td>\n",
       "      <td>South Indian</td>\n",
       "      <td>Zone D</td>\n",
       "      <td>Ordinary</td>\n",
       "    </tr>\n",
       "    <tr>\n",
       "      <th>3</th>\n",
       "      <td>4</td>\n",
       "      <td>Win Hotel</td>\n",
       "      <td>South Indian</td>\n",
       "      <td>Zone D</td>\n",
       "      <td>Ordinary</td>\n",
       "    </tr>\n",
       "    <tr>\n",
       "      <th>4</th>\n",
       "      <td>5</td>\n",
       "      <td>Denver Restaurant</td>\n",
       "      <td>Continental</td>\n",
       "      <td>Zone D</td>\n",
       "      <td>Pro</td>\n",
       "    </tr>\n",
       "  </tbody>\n",
       "</table>\n",
       "</div>"
      ],
      "text/plain": [
       "   RestaurantID     RestaurantName       Cuisine    Zone  Category\n",
       "0             1     The Cave Hotel   Continental  Zone B       Pro\n",
       "1             2          SSK Hotel  North Indian  Zone D       Pro\n",
       "2             3     ASR Restaurant  South Indian  Zone D  Ordinary\n",
       "3             4          Win Hotel  South Indian  Zone D  Ordinary\n",
       "4             5  Denver Restaurant   Continental  Zone D       Pro"
      ]
     },
     "execution_count": 7,
     "metadata": {},
     "output_type": "execute_result"
    }
   ],
   "source": [
    "df2 = pd.read_csv('data/Restaurants.csv', low_memory=False)\n",
    "df2.head()"
   ]
  },
  {
   "cell_type": "code",
   "execution_count": 8,
   "id": "c1f902a1",
   "metadata": {},
   "outputs": [
    {
     "name": "stdout",
     "output_type": "stream",
     "text": [
      "<class 'pandas.core.frame.DataFrame'>\n",
      "RangeIndex: 20 entries, 0 to 19\n",
      "Data columns (total 5 columns):\n",
      " #   Column          Non-Null Count  Dtype \n",
      "---  ------          --------------  ----- \n",
      " 0   RestaurantID    20 non-null     int64 \n",
      " 1   RestaurantName  20 non-null     object\n",
      " 2   Cuisine         20 non-null     object\n",
      " 3   Zone            20 non-null     object\n",
      " 4   Category        20 non-null     object\n",
      "dtypes: int64(1), object(4)\n",
      "memory usage: 928.0+ bytes\n"
     ]
    }
   ],
   "source": [
    "df2.info()"
   ]
  },
  {
   "cell_type": "markdown",
   "id": "6901e467",
   "metadata": {},
   "source": [
    "Not a large dataset by any means, but will be good for use with beginner projects"
   ]
  },
  {
   "cell_type": "code",
   "execution_count": 10,
   "id": "ce3c8193",
   "metadata": {},
   "outputs": [
    {
     "data": {
      "text/plain": [
       "Order ID                      0\n",
       "Customer Name                 0\n",
       "Restaurant ID                 0\n",
       "Order Date                    0\n",
       "Quantity of Items             0\n",
       "Order Amount                  0\n",
       "Payment Mode                  0\n",
       "Delivery Time Taken (mins)    0\n",
       "Customer Rating-Food          0\n",
       "Customer Rating-Delivery      0\n",
       "dtype: int64"
      ]
     },
     "execution_count": 10,
     "metadata": {},
     "output_type": "execute_result"
    }
   ],
   "source": [
    "df1.isna().sum()"
   ]
  },
  {
   "cell_type": "markdown",
   "id": "7e1f00fa",
   "metadata": {},
   "source": [
    "No null values, gives us the advantage with answering these questions much faster. "
   ]
  },
  {
   "cell_type": "markdown",
   "id": "f63803eb",
   "metadata": {},
   "source": [
    "Now that we have seen the data, looked into any of the data cleaning, we can now start answering the questions."
   ]
  },
  {
   "cell_type": "markdown",
   "id": "c3eab8b5",
   "metadata": {},
   "source": [
    "#### Which restaurant received the most orders?\n"
   ]
  },
  {
   "cell_type": "code",
   "execution_count": null,
   "id": "dcc88afd",
   "metadata": {},
   "outputs": [],
   "source": []
  },
  {
   "cell_type": "code",
   "execution_count": null,
   "id": "082c1c45",
   "metadata": {},
   "outputs": [],
   "source": []
  },
  {
   "cell_type": "markdown",
   "id": "b62ec60b",
   "metadata": {},
   "source": [
    "#### Which restaurant saw most sales?"
   ]
  },
  {
   "cell_type": "code",
   "execution_count": null,
   "id": "7886ccae",
   "metadata": {},
   "outputs": [],
   "source": []
  },
  {
   "cell_type": "code",
   "execution_count": null,
   "id": "d3bcbdbb",
   "metadata": {},
   "outputs": [],
   "source": []
  },
  {
   "cell_type": "markdown",
   "id": "6993b997",
   "metadata": {},
   "source": [
    "#### Which customer ordered the most?"
   ]
  },
  {
   "cell_type": "code",
   "execution_count": null,
   "id": "06c412b3",
   "metadata": {},
   "outputs": [],
   "source": []
  },
  {
   "cell_type": "code",
   "execution_count": null,
   "id": "53d5467d",
   "metadata": {},
   "outputs": [],
   "source": []
  },
  {
   "cell_type": "markdown",
   "id": "f401ee41",
   "metadata": {},
   "source": [
    "#### Display restaurant name and the category where name starts with s ?"
   ]
  },
  {
   "cell_type": "code",
   "execution_count": null,
   "id": "cd0d355d",
   "metadata": {},
   "outputs": [],
   "source": []
  },
  {
   "cell_type": "code",
   "execution_count": null,
   "id": "a670e3af",
   "metadata": {},
   "outputs": [],
   "source": []
  },
  {
   "cell_type": "markdown",
   "id": "fca27e4e",
   "metadata": {},
   "source": [
    "#### Which is the most liked cuisine?"
   ]
  },
  {
   "cell_type": "code",
   "execution_count": null,
   "id": "7b3a588b",
   "metadata": {},
   "outputs": [],
   "source": []
  },
  {
   "cell_type": "code",
   "execution_count": null,
   "id": "091107e7",
   "metadata": {},
   "outputs": [],
   "source": []
  },
  {
   "cell_type": "markdown",
   "id": "d14b2dcb",
   "metadata": {},
   "source": [
    "#### Which zone has the most sales?"
   ]
  },
  {
   "cell_type": "code",
   "execution_count": null,
   "id": "33e82f24",
   "metadata": {},
   "outputs": [],
   "source": []
  },
  {
   "cell_type": "code",
   "execution_count": null,
   "id": "c6b63119",
   "metadata": {},
   "outputs": [],
   "source": []
  },
  {
   "cell_type": "markdown",
   "id": "f79feff4",
   "metadata": {},
   "source": [
    "#### The payment mode used maximum number of times"
   ]
  },
  {
   "cell_type": "code",
   "execution_count": null,
   "id": "5b260cf9",
   "metadata": {},
   "outputs": [],
   "source": []
  },
  {
   "cell_type": "code",
   "execution_count": null,
   "id": "114671e9",
   "metadata": {},
   "outputs": [],
   "source": []
  },
  {
   "cell_type": "markdown",
   "id": "01c080f5",
   "metadata": {},
   "source": [
    "#### Restaurant receiving the delivery rating greater than 4"
   ]
  },
  {
   "cell_type": "code",
   "execution_count": null,
   "id": "4ffe5cc9",
   "metadata": {},
   "outputs": [],
   "source": []
  },
  {
   "cell_type": "code",
   "execution_count": null,
   "id": "7379b3ca",
   "metadata": {},
   "outputs": [],
   "source": []
  },
  {
   "cell_type": "markdown",
   "id": "961782fb",
   "metadata": {},
   "source": [
    "#### Maximum delivery time taken by restaurant"
   ]
  },
  {
   "cell_type": "code",
   "execution_count": null,
   "id": "757aa683",
   "metadata": {},
   "outputs": [],
   "source": []
  },
  {
   "cell_type": "code",
   "execution_count": null,
   "id": "1b3f5d44",
   "metadata": {},
   "outputs": [],
   "source": []
  },
  {
   "cell_type": "markdown",
   "id": "b0fd73f9",
   "metadata": {},
   "source": [
    "#### customer name, restaurant name and the category where category is ordinary and name starts with d#"
   ]
  },
  {
   "cell_type": "code",
   "execution_count": null,
   "id": "b5df1c23",
   "metadata": {},
   "outputs": [],
   "source": []
  },
  {
   "cell_type": "code",
   "execution_count": null,
   "id": "6fc136f1",
   "metadata": {},
   "outputs": [],
   "source": []
  }
 ],
 "metadata": {
  "kernelspec": {
   "display_name": "Python (learn-env)",
   "language": "python",
   "name": "learn-env"
  },
  "language_info": {
   "codemirror_mode": {
    "name": "ipython",
    "version": 3
   },
   "file_extension": ".py",
   "mimetype": "text/x-python",
   "name": "python",
   "nbconvert_exporter": "python",
   "pygments_lexer": "ipython3",
   "version": "3.8.5"
  }
 },
 "nbformat": 4,
 "nbformat_minor": 5
}
