{
 "cells": [
  {
   "cell_type": "markdown",
   "id": "47bd2122",
   "metadata": {},
   "source": [
    "# SQL Exploration of Restaurant Data"
   ]
  },
  {
   "cell_type": "markdown",
   "id": "b4a25c72",
   "metadata": {},
   "source": [
    "## Will be performing Data Exploration through Pandas tools and SQL\n",
    "\n",
    "## Objective:"
   ]
  },
  {
   "cell_type": "markdown",
   "id": "fdd543a7",
   "metadata": {},
   "source": [
    "The objective of this analysis is to provide data insights to future restaurant owners who are planning to open a food delivery store but has no ideas on below business decisions such as: which cuisine types should they do, which zones to choose for their kitchen site to get the most sales, which is the most effective time period of a day to do marketing,etc. To help these restaurant owners, we use SQL to answer these questions:\n",
    "\n",
    "Which restaurant received the most orders?\n",
    "\n",
    "Which restaurant saw most sales?\n",
    "\n",
    "Which customer ordered the most?\n",
    "\n",
    "Display restaurant name and the category where name starts with s ?\n",
    "\n",
    "Which is the most liked cuisine?\n",
    "\n",
    "Which zone has the most sales?\n",
    "\n",
    "The payment mode used maximum number of times\n",
    "\n",
    "Restaurant receiving the delivery rating greater than 4\n",
    "\n",
    "Maximum delivery time taken by restaurant\n",
    "\n",
    "customer name, restaurant name and the category where category is ordinary and name starts with d"
   ]
  },
  {
   "cell_type": "code",
   "execution_count": 1,
   "id": "96cb4be6",
   "metadata": {},
   "outputs": [],
   "source": [
    "import pandas as pd\n",
    "import sqlite3\n"
   ]
  },
  {
   "cell_type": "code",
   "execution_count": 2,
   "id": "534c9b08",
   "metadata": {},
   "outputs": [
    {
     "data": {
      "text/html": [
       "<div>\n",
       "<style scoped>\n",
       "    .dataframe tbody tr th:only-of-type {\n",
       "        vertical-align: middle;\n",
       "    }\n",
       "\n",
       "    .dataframe tbody tr th {\n",
       "        vertical-align: top;\n",
       "    }\n",
       "\n",
       "    .dataframe thead th {\n",
       "        text-align: right;\n",
       "    }\n",
       "</style>\n",
       "<table border=\"1\" class=\"dataframe\">\n",
       "  <thead>\n",
       "    <tr style=\"text-align: right;\">\n",
       "      <th></th>\n",
       "      <th>Order ID</th>\n",
       "      <th>Customer Name</th>\n",
       "      <th>Restaurant ID</th>\n",
       "      <th>Order Date</th>\n",
       "      <th>Quantity of Items</th>\n",
       "      <th>Order Amount</th>\n",
       "      <th>Payment Mode</th>\n",
       "      <th>Delivery Time Taken (mins)</th>\n",
       "      <th>Customer Rating-Food</th>\n",
       "      <th>Customer Rating-Delivery</th>\n",
       "    </tr>\n",
       "  </thead>\n",
       "  <tbody>\n",
       "    <tr>\n",
       "      <th>0</th>\n",
       "      <td>OD1</td>\n",
       "      <td>Srini</td>\n",
       "      <td>6</td>\n",
       "      <td>1/1/22 23:15</td>\n",
       "      <td>5</td>\n",
       "      <td>633</td>\n",
       "      <td>Debit Card</td>\n",
       "      <td>47</td>\n",
       "      <td>5</td>\n",
       "      <td>3</td>\n",
       "    </tr>\n",
       "    <tr>\n",
       "      <th>1</th>\n",
       "      <td>OD2</td>\n",
       "      <td>Revandh</td>\n",
       "      <td>13</td>\n",
       "      <td>1/1/22 19:21</td>\n",
       "      <td>5</td>\n",
       "      <td>258</td>\n",
       "      <td>Credit Card</td>\n",
       "      <td>41</td>\n",
       "      <td>3</td>\n",
       "      <td>5</td>\n",
       "    </tr>\n",
       "    <tr>\n",
       "      <th>2</th>\n",
       "      <td>OD3</td>\n",
       "      <td>David</td>\n",
       "      <td>9</td>\n",
       "      <td>1/1/22 23:15</td>\n",
       "      <td>7</td>\n",
       "      <td>594</td>\n",
       "      <td>Cash on Delivery</td>\n",
       "      <td>30</td>\n",
       "      <td>3</td>\n",
       "      <td>4</td>\n",
       "    </tr>\n",
       "    <tr>\n",
       "      <th>3</th>\n",
       "      <td>OD4</td>\n",
       "      <td>Selva</td>\n",
       "      <td>4</td>\n",
       "      <td>1/1/22 20:31</td>\n",
       "      <td>5</td>\n",
       "      <td>868</td>\n",
       "      <td>Cash on Delivery</td>\n",
       "      <td>30</td>\n",
       "      <td>3</td>\n",
       "      <td>4</td>\n",
       "    </tr>\n",
       "    <tr>\n",
       "      <th>4</th>\n",
       "      <td>OD5</td>\n",
       "      <td>Vinny</td>\n",
       "      <td>4</td>\n",
       "      <td>1/1/22 11:10</td>\n",
       "      <td>4</td>\n",
       "      <td>170</td>\n",
       "      <td>Debit Card</td>\n",
       "      <td>18</td>\n",
       "      <td>4</td>\n",
       "      <td>3</td>\n",
       "    </tr>\n",
       "  </tbody>\n",
       "</table>\n",
       "</div>"
      ],
      "text/plain": [
       "  Order ID Customer Name  Restaurant ID    Order Date  Quantity of Items  \\\n",
       "0      OD1         Srini              6  1/1/22 23:15                  5   \n",
       "1      OD2       Revandh             13  1/1/22 19:21                  5   \n",
       "2      OD3         David              9  1/1/22 23:15                  7   \n",
       "3      OD4         Selva              4  1/1/22 20:31                  5   \n",
       "4      OD5         Vinny              4  1/1/22 11:10                  4   \n",
       "\n",
       "   Order Amount      Payment Mode  Delivery Time Taken (mins)  \\\n",
       "0           633        Debit Card                          47   \n",
       "1           258       Credit Card                          41   \n",
       "2           594  Cash on Delivery                          30   \n",
       "3           868  Cash on Delivery                          30   \n",
       "4           170        Debit Card                          18   \n",
       "\n",
       "   Customer Rating-Food  Customer Rating-Delivery  \n",
       "0                     5                         3  \n",
       "1                     3                         5  \n",
       "2                     3                         4  \n",
       "3                     3                         4  \n",
       "4                     4                         3  "
      ]
     },
     "execution_count": 2,
     "metadata": {},
     "output_type": "execute_result"
    }
   ],
   "source": [
    "df1 = pd.read_csv('data/Orders.csv', low_memory=False)\n",
    "df1.head()\n"
   ]
  },
  {
   "cell_type": "code",
   "execution_count": 3,
   "id": "6707a7be",
   "metadata": {},
   "outputs": [
    {
     "name": "stdout",
     "output_type": "stream",
     "text": [
      "<class 'pandas.core.frame.DataFrame'>\n",
      "RangeIndex: 500 entries, 0 to 499\n",
      "Data columns (total 10 columns):\n",
      " #   Column                      Non-Null Count  Dtype \n",
      "---  ------                      --------------  ----- \n",
      " 0   Order ID                    500 non-null    object\n",
      " 1   Customer Name               500 non-null    object\n",
      " 2   Restaurant ID               500 non-null    int64 \n",
      " 3   Order Date                  500 non-null    object\n",
      " 4   Quantity of Items           500 non-null    int64 \n",
      " 5   Order Amount                500 non-null    int64 \n",
      " 6   Payment Mode                500 non-null    object\n",
      " 7   Delivery Time Taken (mins)  500 non-null    int64 \n",
      " 8   Customer Rating-Food        500 non-null    int64 \n",
      " 9   Customer Rating-Delivery    500 non-null    int64 \n",
      "dtypes: int64(6), object(4)\n",
      "memory usage: 39.2+ KB\n"
     ]
    }
   ],
   "source": [
    "df1.info()\n"
   ]
  },
  {
   "cell_type": "code",
   "execution_count": 4,
   "id": "32dc6125",
   "metadata": {},
   "outputs": [
    {
     "data": {
      "text/html": [
       "<div>\n",
       "<style scoped>\n",
       "    .dataframe tbody tr th:only-of-type {\n",
       "        vertical-align: middle;\n",
       "    }\n",
       "\n",
       "    .dataframe tbody tr th {\n",
       "        vertical-align: top;\n",
       "    }\n",
       "\n",
       "    .dataframe thead th {\n",
       "        text-align: right;\n",
       "    }\n",
       "</style>\n",
       "<table border=\"1\" class=\"dataframe\">\n",
       "  <thead>\n",
       "    <tr style=\"text-align: right;\">\n",
       "      <th></th>\n",
       "      <th>RestaurantID</th>\n",
       "      <th>RestaurantName</th>\n",
       "      <th>Cuisine</th>\n",
       "      <th>Zone</th>\n",
       "      <th>Category</th>\n",
       "    </tr>\n",
       "  </thead>\n",
       "  <tbody>\n",
       "    <tr>\n",
       "      <th>0</th>\n",
       "      <td>1</td>\n",
       "      <td>The Cave Hotel</td>\n",
       "      <td>Continental</td>\n",
       "      <td>Zone B</td>\n",
       "      <td>Pro</td>\n",
       "    </tr>\n",
       "    <tr>\n",
       "      <th>1</th>\n",
       "      <td>2</td>\n",
       "      <td>SSK Hotel</td>\n",
       "      <td>North Indian</td>\n",
       "      <td>Zone D</td>\n",
       "      <td>Pro</td>\n",
       "    </tr>\n",
       "    <tr>\n",
       "      <th>2</th>\n",
       "      <td>3</td>\n",
       "      <td>ASR Restaurant</td>\n",
       "      <td>South Indian</td>\n",
       "      <td>Zone D</td>\n",
       "      <td>Ordinary</td>\n",
       "    </tr>\n",
       "    <tr>\n",
       "      <th>3</th>\n",
       "      <td>4</td>\n",
       "      <td>Win Hotel</td>\n",
       "      <td>South Indian</td>\n",
       "      <td>Zone D</td>\n",
       "      <td>Ordinary</td>\n",
       "    </tr>\n",
       "    <tr>\n",
       "      <th>4</th>\n",
       "      <td>5</td>\n",
       "      <td>Denver Restaurant</td>\n",
       "      <td>Continental</td>\n",
       "      <td>Zone D</td>\n",
       "      <td>Pro</td>\n",
       "    </tr>\n",
       "  </tbody>\n",
       "</table>\n",
       "</div>"
      ],
      "text/plain": [
       "   RestaurantID     RestaurantName       Cuisine    Zone  Category\n",
       "0             1     The Cave Hotel   Continental  Zone B       Pro\n",
       "1             2          SSK Hotel  North Indian  Zone D       Pro\n",
       "2             3     ASR Restaurant  South Indian  Zone D  Ordinary\n",
       "3             4          Win Hotel  South Indian  Zone D  Ordinary\n",
       "4             5  Denver Restaurant   Continental  Zone D       Pro"
      ]
     },
     "execution_count": 4,
     "metadata": {},
     "output_type": "execute_result"
    }
   ],
   "source": [
    "df2 = pd.read_csv('data/Restaurants.csv', low_memory=False)\n",
    "df2.head()\n"
   ]
  },
  {
   "cell_type": "code",
   "execution_count": 5,
   "id": "9c84ef2e",
   "metadata": {},
   "outputs": [
    {
     "name": "stdout",
     "output_type": "stream",
     "text": [
      "<class 'pandas.core.frame.DataFrame'>\n",
      "RangeIndex: 20 entries, 0 to 19\n",
      "Data columns (total 5 columns):\n",
      " #   Column          Non-Null Count  Dtype \n",
      "---  ------          --------------  ----- \n",
      " 0   RestaurantID    20 non-null     int64 \n",
      " 1   RestaurantName  20 non-null     object\n",
      " 2   Cuisine         20 non-null     object\n",
      " 3   Zone            20 non-null     object\n",
      " 4   Category        20 non-null     object\n",
      "dtypes: int64(1), object(4)\n",
      "memory usage: 928.0+ bytes\n"
     ]
    }
   ],
   "source": [
    "df2.info()\n"
   ]
  },
  {
   "cell_type": "code",
   "execution_count": 6,
   "id": "0c776af2",
   "metadata": {},
   "outputs": [
    {
     "data": {
      "text/plain": [
       "20"
      ]
     },
     "execution_count": 6,
     "metadata": {},
     "output_type": "execute_result"
    }
   ],
   "source": [
    "# Create a connection to an in-memory database\n",
    "connection = sqlite3.connect(':memory:')\n",
    "\n",
    "# Read CSV files into SQL tables\n",
    "df1.to_sql('orders', connection, index=False)\n",
    "df2.to_sql('restaurants', connection, index=False)"
   ]
  },
  {
   "cell_type": "markdown",
   "id": "1a8e2f79",
   "metadata": {},
   "source": [
    "Not a large dataset by any means, but will be good for use with beginner sql projects"
   ]
  },
  {
   "cell_type": "markdown",
   "id": "6b1d3a80",
   "metadata": {},
   "source": [
    "### Before answering the objective questions, lets start with some of our own questions. Such as:\n",
    "\n",
    "What is the Total amount of orders?\n",
    "\n",
    "What is the Total quantity of items sold?\n",
    "\n",
    "What is the average delivery time?\n",
    "\n",
    "What is the average rating for food?"
   ]
  },
  {
   "cell_type": "code",
   "execution_count": 7,
   "id": "10fc088a",
   "metadata": {},
   "outputs": [
    {
     "name": "stdout",
     "output_type": "stream",
     "text": [
      "Total Amount of Orders: (299071,)\n"
     ]
    }
   ],
   "source": [
    "#What is the Total amount of orders?\n",
    "\n",
    "basic1 = \"\"\"\n",
    "\n",
    "SELECT SUM(\"Order Amount\") AS total_amount\n",
    "FROM orders;\n",
    "\n",
    "\"\"\"\n",
    "\n",
    "total_amount = connection.execute(basic1).fetchone()\n",
    "print(\"Total Amount of Orders:\", total_amount)"
   ]
  },
  {
   "cell_type": "code",
   "execution_count": 8,
   "id": "85ccf2a5",
   "metadata": {},
   "outputs": [
    {
     "name": "stdout",
     "output_type": "stream",
     "text": [
      "Total Quantity of Items Sold: (2326,)\n"
     ]
    }
   ],
   "source": [
    "#What is the Total quantity of items sold?\n",
    "\n",
    "basic2 = \"\"\"\n",
    "\n",
    "SELECT SUM(\"Quantity of Items\") AS total_quantity\n",
    "FROM orders;\n",
    "\n",
    "\"\"\"\n",
    "\n",
    "total_quantity = connection.execute(basic2).fetchone()\n",
    "print(\"Total Quantity of Items Sold:\", total_quantity)"
   ]
  },
  {
   "cell_type": "code",
   "execution_count": 9,
   "id": "d03cbf80",
   "metadata": {},
   "outputs": [
    {
     "name": "stdout",
     "output_type": "stream",
     "text": [
      "Average Delivery Time: (30.542,)\n"
     ]
    }
   ],
   "source": [
    "#What is the average delivery time?\n",
    "\n",
    "basic3 = \"\"\"\n",
    "\n",
    "SELECT AVG(\"Delivery Time Taken (mins)\") AS average_delivery_time\n",
    "FROM orders;\n",
    "\n",
    "\"\"\"\n",
    "\n",
    "average_delivery_time = connection.execute(basic3).fetchone()\n",
    "print(\"Average Delivery Time:\", average_delivery_time)"
   ]
  },
  {
   "cell_type": "code",
   "execution_count": 10,
   "id": "6af14c32",
   "metadata": {},
   "outputs": [
    {
     "name": "stdout",
     "output_type": "stream",
     "text": [
      "Average Rating for Food: (3.362,)\n"
     ]
    }
   ],
   "source": [
    "#What is the average rating for food?\n",
    "\n",
    "basic4 = \"\"\"\n",
    "\n",
    "SELECT AVG(\"Customer Rating-Food\") AS average_food_rating\n",
    "FROM orders;\n",
    "\n",
    "\"\"\"\n",
    "\n",
    "average_food_rating = connection.execute(basic4).fetchone()\n",
    "print(\"Average Rating for Food:\", average_food_rating)"
   ]
  },
  {
   "cell_type": "markdown",
   "id": "3cf4bcdf",
   "metadata": {},
   "source": [
    "### Now that we have answered some basics, lets get further into the exploration and analysis"
   ]
  },
  {
   "cell_type": "markdown",
   "id": "3fef1d25",
   "metadata": {},
   "source": [
    "#### Which restaurant received the most orders?"
   ]
  },
  {
   "cell_type": "code",
   "execution_count": 11,
   "id": "3ab6b2f4",
   "metadata": {},
   "outputs": [
    {
     "name": "stdout",
     "output_type": "stream",
     "text": [
      "Most ordered restaurant: The Cave Hotel\n"
     ]
    }
   ],
   "source": [
    "query1 = \"\"\"\n",
    "\n",
    "SELECT r.RestaurantName, COUNT(*) AS OrderCount\n",
    "FROM orders AS o\n",
    "JOIN restaurants AS r ON o.\"Restaurant ID\" = r.RestaurantID\n",
    "GROUP BY r.RestaurantName\n",
    "ORDER BY OrderCount DESC\n",
    "LIMIT 1;\n",
    "\n",
    "\"\"\"\n",
    "\n",
    "most_ordered_restaurant = connection.execute(query1).fetchone()[0]\n",
    "print(\"Most ordered restaurant:\", most_ordered_restaurant)\n"
   ]
  },
  {
   "cell_type": "markdown",
   "id": "0509ed69",
   "metadata": {},
   "source": [
    "Lets see the top 10 restaurants with most orders as well. "
   ]
  },
  {
   "cell_type": "code",
   "execution_count": 12,
   "id": "a562ba78",
   "metadata": {},
   "outputs": [
    {
     "name": "stdout",
     "output_type": "stream",
     "text": [
      "Top 10 Most Ordered Restaurants: [('The Cave Hotel', 32), ('Ellora', 32), ('Chew Restaurant', 31), ('Willies', 30), ('Veer Restaurant', 29), ('Anand Restaurant', 29), ('Ruchi', 28), ('Win Hotel', 27), ('Zam Zam', 25), ('Sam Hotel', 25)]\n"
     ]
    }
   ],
   "source": [
    "curiousquery1 = \"\"\"\n",
    "\n",
    "SELECT r.RestaurantName, COUNT(o.\"Order ID\") AS OrderCount\n",
    "FROM orders AS o\n",
    "JOIN restaurants AS r ON o.\"Restaurant ID\" = r.RestaurantID\n",
    "GROUP BY r.RestaurantName\n",
    "ORDER BY OrderCount DESC\n",
    "LIMIT 10;\n",
    "\n",
    "\"\"\"\n",
    "\n",
    "\n",
    "top_most_ordered_restaurant = connection.execute(curiousquery1).fetchall()\n",
    "print(\"Top 10 Most Ordered Restaurants:\", top_most_ordered_restaurant)\n"
   ]
  },
  {
   "cell_type": "markdown",
   "id": "72fcd6b8",
   "metadata": {},
   "source": [
    "#### Which restaurant saw the most sales?"
   ]
  },
  {
   "cell_type": "code",
   "execution_count": 13,
   "id": "0da72ea3",
   "metadata": {},
   "outputs": [
    {
     "name": "stdout",
     "output_type": "stream",
     "text": [
      "Most sales restaurant: Veer Restaurant\n"
     ]
    }
   ],
   "source": [
    "query2 = \"\"\"\n",
    "\n",
    "SELECT RestaurantName, SUM(\"Order Amount\") AS TotalSales\n",
    "FROM orders AS o\n",
    "JOIN restaurants AS r ON o.\"Restaurant ID\" = r.RestaurantID\n",
    "GROUP BY RestaurantName\n",
    "ORDER BY TotalSales DESC\n",
    "LIMIT 1;\n",
    "\n",
    "\"\"\"\n",
    "\n",
    "most_sales_restaurant = connection.execute(query2).fetchone()[0]\n",
    "print(\"Most sales restaurant:\", most_sales_restaurant)\n"
   ]
  },
  {
   "cell_type": "markdown",
   "id": "d0854b67",
   "metadata": {},
   "source": [
    "#### Which customer ordered the most?"
   ]
  },
  {
   "cell_type": "code",
   "execution_count": 14,
   "id": "6aee352a",
   "metadata": {},
   "outputs": [
    {
     "name": "stdout",
     "output_type": "stream",
     "text": [
      "Customer with the most orders: Srini\n"
     ]
    }
   ],
   "source": [
    "query3 = \"\"\"\n",
    "SELECT \"Customer Name\", COUNT(*) AS OrderCount\n",
    "FROM orders AS o\n",
    "GROUP BY \"Customer Name\"\n",
    "ORDER BY OrderCount DESC\n",
    "LIMIT 1;\n",
    "\"\"\"\n",
    "\n",
    "most_customer_order = connection.execute(query3).fetchone()[0]\n",
    "print(\"Customer with the most orders:\", most_customer_order)\n"
   ]
  },
  {
   "cell_type": "markdown",
   "id": "2b4c1c94",
   "metadata": {},
   "source": [
    "#### Display restaurant name and the category where the name starts with 's'?"
   ]
  },
  {
   "cell_type": "code",
   "execution_count": 15,
   "id": "ad1b0453",
   "metadata": {},
   "outputs": [
    {
     "name": "stdout",
     "output_type": "stream",
     "text": [
      "Restaurant Name: SSK Hotel\n",
      "Category: Pro\n",
      "\n",
      "Restaurant Name: Sam Hotel\n",
      "Category: Ordinary\n",
      "\n"
     ]
    }
   ],
   "source": [
    "query4 = \"\"\"\n",
    "SELECT RestaurantName, Category\n",
    "FROM restaurants\n",
    "WHERE RestaurantName LIKE 'S%'\n",
    "\"\"\"\n",
    "\n",
    "restaurants_with_s = connection.execute(query4).fetchall()\n",
    "for restaurant in restaurants_with_s:\n",
    "    print(\"Restaurant Name:\", restaurant[0])\n",
    "    print(\"Category:\", restaurant[1])\n",
    "    print()\n",
    "\n"
   ]
  },
  {
   "cell_type": "markdown",
   "id": "41bc2576",
   "metadata": {},
   "source": [
    "#### Which is the most liked cuisine?\n"
   ]
  },
  {
   "cell_type": "code",
   "execution_count": 16,
   "id": "507f39d4",
   "metadata": {},
   "outputs": [
    {
     "name": "stdout",
     "output_type": "stream",
     "text": [
      "Most liked cuisine: North Indian\n"
     ]
    }
   ],
   "source": [
    "query5 = \"\"\"\n",
    "\n",
    "SELECT Cuisine, AVG(\"Customer Rating-Food\") AS AvgFoodRating\n",
    "FROM orders AS o\n",
    "JOIN restaurants AS r ON o.\"Restaurant ID\" = r.RestaurantID\n",
    "GROUP BY Cuisine\n",
    "ORDER BY AvgFoodRating DESC\n",
    "LIMIT 1;\n",
    "\n",
    "\"\"\"\n",
    "\n",
    "most_liked_cuisine = connection.execute(query5).fetchone()[0]\n",
    "print(\"Most liked cuisine:\", most_liked_cuisine)\n"
   ]
  },
  {
   "cell_type": "markdown",
   "id": "e8ad4a7b",
   "metadata": {},
   "source": [
    "#### Which zone has the most sales?"
   ]
  },
  {
   "cell_type": "code",
   "execution_count": 17,
   "id": "73bc3eab",
   "metadata": {},
   "outputs": [
    {
     "name": "stdout",
     "output_type": "stream",
     "text": [
      "Zone with the most sales: Zone D\n"
     ]
    }
   ],
   "source": [
    "query6 = \"\"\"\n",
    "\n",
    "SELECT Zone, SUM(\"Order Amount\") AS TotalSales\n",
    "FROM orders AS o\n",
    "JOIN restaurants AS r ON o.\"Restaurant ID\" = r.RestaurantID\n",
    "GROUP BY Zone\n",
    "ORDER BY TotalSales DESC\n",
    "LIMIT 1;\n",
    "\n",
    "\"\"\"\n",
    "\n",
    "most_sales_zone = connection.execute(query6).fetchone()[0]\n",
    "print(\"Zone with the most sales:\", most_sales_zone)\n"
   ]
  },
  {
   "cell_type": "markdown",
   "id": "094c9fec",
   "metadata": {},
   "source": [
    "Lets see what are the most sales in each Zone!"
   ]
  },
  {
   "cell_type": "code",
   "execution_count": 18,
   "id": "05367656",
   "metadata": {},
   "outputs": [
    {
     "name": "stdout",
     "output_type": "stream",
     "text": [
      "Zone with the most sales: [('Zone D', 128163), ('Zone B', 77001), ('Zone C', 53074), ('Zone A', 40833)]\n"
     ]
    }
   ],
   "source": [
    "curiousquery2 = \"\"\"\n",
    "\n",
    "SELECT Zone, SUM(\"Order Amount\") AS TotalSales\n",
    "FROM orders AS o\n",
    "JOIN restaurants AS r ON o.\"Restaurant ID\" = r.RestaurantID\n",
    "GROUP BY Zone\n",
    "ORDER BY TotalSales DESC\n",
    "\n",
    "\"\"\"\n",
    "\n",
    "most_sales_all_zone = connection.execute(curiousquery2).fetchall()\n",
    "print(\"Zone with the most sales:\", most_sales_all_zone)\n"
   ]
  },
  {
   "cell_type": "markdown",
   "id": "70a8fc59",
   "metadata": {},
   "source": [
    "#### The payment mode used the maximum number of times?\n"
   ]
  },
  {
   "cell_type": "code",
   "execution_count": 19,
   "id": "234ba599",
   "metadata": {},
   "outputs": [
    {
     "name": "stdout",
     "output_type": "stream",
     "text": [
      "Payment mode used maximum amount: Debit Card\n"
     ]
    }
   ],
   "source": [
    "query6 = \"\"\"\n",
    "\n",
    "SELECT \"Payment Mode\", COUNT(*) AS PaymentCount\n",
    "FROM orders AS o\n",
    "JOIN restaurants AS r ON o.\"Restaurant ID\" = r.RestaurantID\n",
    "GROUP BY \"Payment Mode\"\n",
    "ORDER BY PaymentCount DESC\n",
    "LIMIT 1;\n",
    "\n",
    "\n",
    "\"\"\"\n",
    "\n",
    "maximum_number_payment = connection.execute(query6).fetchone()[0]\n",
    "print(\"Payment mode used maximum amount:\",maximum_number_payment)\n"
   ]
  },
  {
   "cell_type": "markdown",
   "id": "069c7177",
   "metadata": {},
   "source": [
    "#### Restaurant receiving the delivery rating greater than 4?\n"
   ]
  },
  {
   "cell_type": "code",
   "execution_count": 20,
   "id": "0c8c9182",
   "metadata": {},
   "outputs": [
    {
     "name": "stdout",
     "output_type": "stream",
     "text": [
      "Restaurant with delivery rating over 4: Restaurant Name\n",
      "Category: Ordinary\n",
      "\n",
      "Restaurant with delivery rating over 4: Restaurant Name\n",
      "Category: Ordinary\n",
      "\n",
      "Restaurant with delivery rating over 4: Restaurant Name\n",
      "Category: Ordinary\n",
      "\n",
      "Restaurant with delivery rating over 4: Restaurant Name\n",
      "Category: Ordinary\n",
      "\n",
      "Restaurant with delivery rating over 4: Restaurant Name\n",
      "Category: Ordinary\n",
      "\n",
      "Restaurant with delivery rating over 4: Restaurant Name\n",
      "Category: Pro\n",
      "\n",
      "Restaurant with delivery rating over 4: Restaurant Name\n",
      "Category: Ordinary\n",
      "\n",
      "Restaurant with delivery rating over 4: Restaurant Name\n",
      "Category: Ordinary\n",
      "\n",
      "Restaurant with delivery rating over 4: Restaurant Name\n",
      "Category: Ordinary\n",
      "\n",
      "Restaurant with delivery rating over 4: Restaurant Name\n",
      "Category: Ordinary\n",
      "\n",
      "Restaurant with delivery rating over 4: Restaurant Name\n",
      "Category: Ordinary\n",
      "\n",
      "Restaurant with delivery rating over 4: Restaurant Name\n",
      "Category: Ordinary\n",
      "\n",
      "Restaurant with delivery rating over 4: Restaurant Name\n",
      "Category: Ordinary\n",
      "\n",
      "Restaurant with delivery rating over 4: Restaurant Name\n",
      "Category: Pro\n",
      "\n",
      "Restaurant with delivery rating over 4: Restaurant Name\n",
      "Category: Ordinary\n",
      "\n",
      "Restaurant with delivery rating over 4: Restaurant Name\n",
      "Category: Ordinary\n",
      "\n",
      "Restaurant with delivery rating over 4: Restaurant Name\n",
      "Category: Ordinary\n",
      "\n",
      "Restaurant with delivery rating over 4: Restaurant Name\n",
      "Category: Ordinary\n",
      "\n",
      "Restaurant with delivery rating over 4: Restaurant Name\n",
      "Category: Ordinary\n",
      "\n",
      "Restaurant with delivery rating over 4: Restaurant Name\n",
      "Category: Pro\n",
      "\n",
      "Restaurant with delivery rating over 4: Restaurant Name\n",
      "Category: Ordinary\n",
      "\n",
      "Restaurant with delivery rating over 4: Restaurant Name\n",
      "Category: Pro\n",
      "\n",
      "Restaurant with delivery rating over 4: Restaurant Name\n",
      "Category: Ordinary\n",
      "\n",
      "Restaurant with delivery rating over 4: Restaurant Name\n",
      "Category: Ordinary\n",
      "\n",
      "Restaurant with delivery rating over 4: Restaurant Name\n",
      "Category: Pro\n",
      "\n",
      "Restaurant with delivery rating over 4: Restaurant Name\n",
      "Category: Pro\n",
      "\n",
      "Restaurant with delivery rating over 4: Restaurant Name\n",
      "Category: Ordinary\n",
      "\n",
      "Restaurant with delivery rating over 4: Restaurant Name\n",
      "Category: Pro\n",
      "\n",
      "Restaurant with delivery rating over 4: Restaurant Name\n",
      "Category: Ordinary\n",
      "\n",
      "Restaurant with delivery rating over 4: Restaurant Name\n",
      "Category: Ordinary\n",
      "\n",
      "Restaurant with delivery rating over 4: Restaurant Name\n",
      "Category: Ordinary\n",
      "\n",
      "Restaurant with delivery rating over 4: Restaurant Name\n",
      "Category: Pro\n",
      "\n",
      "Restaurant with delivery rating over 4: Restaurant Name\n",
      "Category: Ordinary\n",
      "\n",
      "Restaurant with delivery rating over 4: Restaurant Name\n",
      "Category: Pro\n",
      "\n",
      "Restaurant with delivery rating over 4: Restaurant Name\n",
      "Category: Pro\n",
      "\n",
      "Restaurant with delivery rating over 4: Restaurant Name\n",
      "Category: Pro\n",
      "\n",
      "Restaurant with delivery rating over 4: Restaurant Name\n",
      "Category: Ordinary\n",
      "\n",
      "Restaurant with delivery rating over 4: Restaurant Name\n",
      "Category: Ordinary\n",
      "\n",
      "Restaurant with delivery rating over 4: Restaurant Name\n",
      "Category: Ordinary\n",
      "\n",
      "Restaurant with delivery rating over 4: Restaurant Name\n",
      "Category: Pro\n",
      "\n",
      "Restaurant with delivery rating over 4: Restaurant Name\n",
      "Category: Pro\n",
      "\n",
      "Restaurant with delivery rating over 4: Restaurant Name\n",
      "Category: Ordinary\n",
      "\n",
      "Restaurant with delivery rating over 4: Restaurant Name\n",
      "Category: Ordinary\n",
      "\n",
      "Restaurant with delivery rating over 4: Restaurant Name\n",
      "Category: Ordinary\n",
      "\n",
      "Restaurant with delivery rating over 4: Restaurant Name\n",
      "Category: Pro\n",
      "\n",
      "Restaurant with delivery rating over 4: Restaurant Name\n",
      "Category: Ordinary\n",
      "\n",
      "Restaurant with delivery rating over 4: Restaurant Name\n",
      "Category: Pro\n",
      "\n",
      "Restaurant with delivery rating over 4: Restaurant Name\n",
      "Category: Pro\n",
      "\n",
      "Restaurant with delivery rating over 4: Restaurant Name\n",
      "Category: Ordinary\n",
      "\n",
      "Restaurant with delivery rating over 4: Restaurant Name\n",
      "Category: Ordinary\n",
      "\n",
      "Restaurant with delivery rating over 4: Restaurant Name\n",
      "Category: Ordinary\n",
      "\n",
      "Restaurant with delivery rating over 4: Restaurant Name\n",
      "Category: Pro\n",
      "\n",
      "Restaurant with delivery rating over 4: Restaurant Name\n",
      "Category: Pro\n",
      "\n",
      "Restaurant with delivery rating over 4: Restaurant Name\n",
      "Category: Ordinary\n",
      "\n",
      "Restaurant with delivery rating over 4: Restaurant Name\n",
      "Category: Pro\n",
      "\n",
      "Restaurant with delivery rating over 4: Restaurant Name\n",
      "Category: Pro\n",
      "\n",
      "Restaurant with delivery rating over 4: Restaurant Name\n",
      "Category: Pro\n",
      "\n",
      "Restaurant with delivery rating over 4: Restaurant Name\n",
      "Category: Ordinary\n",
      "\n",
      "Restaurant with delivery rating over 4: Restaurant Name\n",
      "Category: Ordinary\n",
      "\n",
      "Restaurant with delivery rating over 4: Restaurant Name\n",
      "Category: Ordinary\n",
      "\n",
      "Restaurant with delivery rating over 4: Restaurant Name\n",
      "Category: Pro\n",
      "\n",
      "Restaurant with delivery rating over 4: Restaurant Name\n",
      "Category: Pro\n",
      "\n",
      "Restaurant with delivery rating over 4: Restaurant Name\n",
      "Category: Ordinary\n",
      "\n",
      "Restaurant with delivery rating over 4: Restaurant Name\n",
      "Category: Ordinary\n",
      "\n",
      "Restaurant with delivery rating over 4: Restaurant Name\n",
      "Category: Pro\n",
      "\n",
      "Restaurant with delivery rating over 4: Restaurant Name\n",
      "Category: Ordinary\n",
      "\n",
      "Restaurant with delivery rating over 4: Restaurant Name\n",
      "Category: Ordinary\n",
      "\n",
      "Restaurant with delivery rating over 4: Restaurant Name\n",
      "Category: Ordinary\n",
      "\n",
      "Restaurant with delivery rating over 4: Restaurant Name\n",
      "Category: Ordinary\n",
      "\n",
      "Restaurant with delivery rating over 4: Restaurant Name\n",
      "Category: Pro\n",
      "\n",
      "Restaurant with delivery rating over 4: Restaurant Name\n",
      "Category: Ordinary\n",
      "\n",
      "Restaurant with delivery rating over 4: Restaurant Name\n",
      "Category: Ordinary\n",
      "\n",
      "Restaurant with delivery rating over 4: Restaurant Name\n",
      "Category: Ordinary\n",
      "\n",
      "Restaurant with delivery rating over 4: Restaurant Name\n",
      "Category: Pro\n",
      "\n",
      "Restaurant with delivery rating over 4: Restaurant Name\n",
      "Category: Ordinary\n",
      "\n",
      "Restaurant with delivery rating over 4: Restaurant Name\n",
      "Category: Ordinary\n",
      "\n",
      "Restaurant with delivery rating over 4: Restaurant Name\n",
      "Category: Pro\n",
      "\n",
      "Restaurant with delivery rating over 4: Restaurant Name\n",
      "Category: Ordinary\n",
      "\n",
      "Restaurant with delivery rating over 4: Restaurant Name\n",
      "Category: Ordinary\n",
      "\n",
      "Restaurant with delivery rating over 4: Restaurant Name\n",
      "Category: Ordinary\n",
      "\n",
      "Restaurant with delivery rating over 4: Restaurant Name\n",
      "Category: Ordinary\n",
      "\n",
      "Restaurant with delivery rating over 4: Restaurant Name\n",
      "Category: Ordinary\n",
      "\n",
      "Restaurant with delivery rating over 4: Restaurant Name\n",
      "Category: Ordinary\n",
      "\n",
      "Restaurant with delivery rating over 4: Restaurant Name\n",
      "Category: Ordinary\n",
      "\n",
      "Restaurant with delivery rating over 4: Restaurant Name\n",
      "Category: Ordinary\n",
      "\n",
      "Restaurant with delivery rating over 4: Restaurant Name\n",
      "Category: Pro\n",
      "\n",
      "Restaurant with delivery rating over 4: Restaurant Name\n",
      "Category: Ordinary\n",
      "\n",
      "Restaurant with delivery rating over 4: Restaurant Name\n",
      "Category: Ordinary\n",
      "\n"
     ]
    }
   ],
   "source": [
    "query7 = \"\"\"\n",
    "SELECT \"Restaurant Name\", Category\n",
    "FROM orders AS o\n",
    "JOIN restaurants AS r ON o.\"Restaurant ID\" = r.\"RestaurantID\"\n",
    "WHERE \"Customer Rating-Delivery\" > 4;\n",
    "\"\"\"\n",
    "\n",
    "delivery_rating_over_4 = connection.execute(query7).fetchall()\n",
    "\n",
    "for row in delivery_rating_over_4:\n",
    "    restaurant_name = row[0]\n",
    "    category = row[1]\n",
    "    print(\"Restaurant with delivery rating over 4:\", restaurant_name)\n",
    "    print(\"Category:\", category)\n",
    "    print()\n"
   ]
  },
  {
   "cell_type": "markdown",
   "id": "7b3b4ed0",
   "metadata": {},
   "source": [
    "#### Maximum delivery time taken by a restaurant?\n"
   ]
  },
  {
   "cell_type": "code",
   "execution_count": 21,
   "id": "b4a3e562",
   "metadata": {},
   "outputs": [
    {
     "name": "stdout",
     "output_type": "stream",
     "text": [
      "Restaurant with maximum delivery time: Restaurant Name\n",
      "Maximum delivery time: 50 minutes\n"
     ]
    }
   ],
   "source": [
    "query8 = \"\"\"\n",
    "\n",
    "SELECT \"Restaurant Name\", MAX(\"Delivery Time Taken (mins)\") AS MaxDeliveryTime\n",
    "FROM orders AS o\n",
    "JOIN restaurants AS r ON o.\"Restaurant ID\" = r.\"RestaurantID\"\n",
    "GROUP BY \"Restaurant Name\";\n",
    "\n",
    "\"\"\"\n",
    "\n",
    "result = connection.execute(query8).fetchone()\n",
    "restaurant_name = result[0]\n",
    "max_delivery_time = result[1]\n",
    "\n",
    "print(\"Restaurant with maximum delivery time:\", restaurant_name)\n",
    "print(\"Maximum delivery time:\", max_delivery_time, \"minutes\")\n"
   ]
  },
  {
   "cell_type": "markdown",
   "id": "9a6be3d2",
   "metadata": {},
   "source": [
    "#### Customer name, restaurant name, and the category where the category is ordinary and name starts with 'd'?"
   ]
  },
  {
   "cell_type": "code",
   "execution_count": 22,
   "id": "5ded8945",
   "metadata": {},
   "outputs": [
    {
     "name": "stdout",
     "output_type": "stream",
     "text": [
      "Customer Name: Chinny\n",
      "Restaurant Name: Dave Hotel\n",
      "Category: Ordinary\n",
      "\n",
      "Customer Name: Chinny\n",
      "Restaurant Name: Dave Hotel\n",
      "Category: Ordinary\n",
      "\n",
      "Customer Name: Dev\n",
      "Restaurant Name: Dave Hotel\n",
      "Category: Ordinary\n",
      "\n",
      "Customer Name: Dev\n",
      "Restaurant Name: Dave Hotel\n",
      "Category: Ordinary\n",
      "\n",
      "Customer Name: Dev\n",
      "Restaurant Name: Dave Hotel\n",
      "Category: Ordinary\n",
      "\n",
      "Customer Name: Farhan\n",
      "Restaurant Name: Dave Hotel\n",
      "Category: Ordinary\n",
      "\n",
      "Customer Name: Gopal\n",
      "Restaurant Name: Dave Hotel\n",
      "Category: Ordinary\n",
      "\n",
      "Customer Name: Meera\n",
      "Restaurant Name: Dave Hotel\n",
      "Category: Ordinary\n",
      "\n",
      "Customer Name: Revandh\n",
      "Restaurant Name: Dave Hotel\n",
      "Category: Ordinary\n",
      "\n",
      "Customer Name: Revandh\n",
      "Restaurant Name: Dave Hotel\n",
      "Category: Ordinary\n",
      "\n",
      "Customer Name: Sabeena\n",
      "Restaurant Name: Dave Hotel\n",
      "Category: Ordinary\n",
      "\n",
      "Customer Name: Sabeena\n",
      "Restaurant Name: Dave Hotel\n",
      "Category: Ordinary\n",
      "\n",
      "Customer Name: Sabeena\n",
      "Restaurant Name: Dave Hotel\n",
      "Category: Ordinary\n",
      "\n",
      "Customer Name: Srini\n",
      "Restaurant Name: Dave Hotel\n",
      "Category: Ordinary\n",
      "\n",
      "Customer Name: Srini\n",
      "Restaurant Name: Dave Hotel\n",
      "Category: Ordinary\n",
      "\n",
      "Customer Name: Swamy\n",
      "Restaurant Name: Dave Hotel\n",
      "Category: Ordinary\n",
      "\n",
      "Customer Name: Swamy\n",
      "Restaurant Name: Dave Hotel\n",
      "Category: Ordinary\n",
      "\n",
      "Customer Name: Veronica\n",
      "Restaurant Name: Dave Hotel\n",
      "Category: Ordinary\n",
      "\n",
      "Customer Name: Vinny\n",
      "Restaurant Name: Dave Hotel\n",
      "Category: Ordinary\n",
      "\n",
      "Customer Name: Vinny\n",
      "Restaurant Name: Dave Hotel\n",
      "Category: Ordinary\n",
      "\n"
     ]
    }
   ],
   "source": [
    "query9 = \"\"\"\n",
    "\n",
    "SELECT \"Customer Name\", \"RestaurantName\", Category\n",
    "FROM orders AS o\n",
    "JOIN restaurants AS r ON o.\"Restaurant ID\" = r.\"RestaurantID\"\n",
    "WHERE Category = \"Ordinary\" AND \"RestaurantName\" LIKE 'D%';\n",
    "\n",
    "\"\"\"\n",
    "\n",
    "results = connection.execute(query9).fetchall()\n",
    "\n",
    "for row in results:\n",
    "    customer_name = row[0]\n",
    "    restaurant_name = row[1]\n",
    "    category = row[2]\n",
    "    \n",
    "    print(\"Customer Name:\", customer_name)\n",
    "    print(\"Restaurant Name:\", restaurant_name)\n",
    "    print(\"Category:\", category)\n",
    "    print()\n"
   ]
  },
  {
   "cell_type": "code",
   "execution_count": null,
   "id": "94fbad72",
   "metadata": {},
   "outputs": [],
   "source": []
  }
 ],
 "metadata": {
  "kernelspec": {
   "display_name": "Python (learn-env)",
   "language": "python",
   "name": "learn-env"
  },
  "language_info": {
   "codemirror_mode": {
    "name": "ipython",
    "version": 3
   },
   "file_extension": ".py",
   "mimetype": "text/x-python",
   "name": "python",
   "nbconvert_exporter": "python",
   "pygments_lexer": "ipython3",
   "version": "3.8.5"
  }
 },
 "nbformat": 4,
 "nbformat_minor": 5
}
